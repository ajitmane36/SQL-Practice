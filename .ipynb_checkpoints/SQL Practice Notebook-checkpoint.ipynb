{
 "cells": [
  {
   "cell_type": "markdown",
   "id": "93bfc28b-9b79-451a-bdd9-ccdccc25c5e6",
   "metadata": {},
   "source": [
    "# <ins>`Data Science SQL Practice Repository`</ins>\n",
    "\n",
    "-- Ajit Mane (ajitmane36@gmail.com)"
   ]
  },
  {
   "cell_type": "markdown",
   "id": "bc39146b-4f93-4f16-8a10-69d61bc6f052",
   "metadata": {},
   "source": [
    "- This repository contains a collection of SQL practice exercises to enhance your SQL skills and knowledge.\n",
    "- It covers a wide range of SQL topics, including querying, filtering, aggregating, and joining data.\n",
    "- SQL is a fundamental skill for working with databases, and regular practice is essential to strengthen your SQL proficiency.\n",
    "- This repository aims to provide you with a set of practice exercises that cover different SQL concepts and scenario"
   ]
  },
  {
   "cell_type": "raw",
   "id": "e0ce6527-7678-4a3f-b7f0-7a742209439a",
   "metadata": {},
   "source": []
  },
  {
   "cell_type": "markdown",
   "id": "7a5427fa-6806-44e8-9ab4-6f13320dce17",
   "metadata": {
    "tags": []
   },
   "source": [
    "## <u>`Exercise - 1'</u>"
   ]
  },
  {
   "cell_type": "markdown",
   "id": "a2d2f831-9e39-4876-88aa-9c4ec0f0b61c",
   "metadata": {},
   "source": [
    "- In this exercise, we shall practice writing SQL Queries on a real dataset. We shall download the 120 years of Olympics History dataset from Kaggle.\n",
    "- This way instead of using cooked up data, we shall use real data to write our SQL Queries. By having real data, it will be much easier for us to understand the data and then relate to it and write different types of queries over it."
   ]
  },
  {
   "cell_type": "markdown",
   "id": "7454da27-b714-4617-b258-f22043793567",
   "metadata": {},
   "source": [
    "### Using Olympics History dataset from Kaggle\n",
    "Link for Dataset - [Click Here](https://www.kaggle.com/heesoo37/120-years-of-olympic-history-athletes-and-results/download)"
   ]
  },
  {
   "cell_type": "code",
   "execution_count": 4,
   "id": "6bc5e3c5-2e58-425c-828a-b8a35ae1d86f",
   "metadata": {
    "tags": []
   },
   "outputs": [
    {
     "name": "stdout",
     "output_type": "stream",
     "text": [
      "Requirement already satisfied: SQLAlchemy in c:\\programdata\\anaconda3\\lib\\site-packages (1.4.39)\n",
      "Requirement already satisfied: greenlet!=0.4.17 in c:\\programdata\\anaconda3\\lib\\site-packages (from SQLAlchemy) (2.0.1)\n",
      "Collecting psycopg2\n",
      "  Downloading psycopg2-2.9.6-cp39-cp39-win_amd64.whl (1.2 MB)\n",
      "                                              0.0/1.2 MB ? eta -:--:--\n",
      "     ---------                                0.3/1.2 MB 5.4 MB/s eta 0:00:01\n",
      "     ------------------                       0.5/1.2 MB 6.7 MB/s eta 0:00:01\n",
      "     --------------------------               0.8/1.2 MB 6.2 MB/s eta 0:00:01\n",
      "     -----------------------------------      1.0/1.2 MB 6.0 MB/s eta 0:00:01\n",
      "     ---------------------------------------  1.2/1.2 MB 6.2 MB/s eta 0:00:01\n",
      "     ---------------------------------------  1.2/1.2 MB 6.2 MB/s eta 0:00:01\n",
      "     ---------------------------------------- 1.2/1.2 MB 3.9 MB/s eta 0:00:00\n",
      "Requirement already satisfied: pyodbc in c:\\programdata\\anaconda3\\lib\\site-packages (4.0.34)\n",
      "Installing collected packages: psycopg2\n",
      "Successfully installed psycopg2-2.9.6\n"
     ]
    },
    {
     "ename": "NoSuchModuleError",
     "evalue": "Can't load plugin: sqlalchemy.dialects:https",
     "output_type": "error",
     "traceback": [
      "\u001b[1;31m---------------------------------------------------------------------------\u001b[0m",
      "\u001b[1;31mNoSuchModuleError\u001b[0m                         Traceback (most recent call last)",
      "Cell \u001b[1;32mIn[4], line 13\u001b[0m\n\u001b[0;32m     10\u001b[0m \u001b[38;5;28;01mfrom\u001b[39;00m \u001b[38;5;21;01msqlalchemy\u001b[39;00m \u001b[38;5;28;01mimport\u001b[39;00m create_engine, Table, Column, Integer, String, MetaData, select\n\u001b[0;32m     12\u001b[0m \u001b[38;5;66;03m# Create engines and establish connections for each table\u001b[39;00m\n\u001b[1;32m---> 13\u001b[0m Olympic_history_engine \u001b[38;5;241m=\u001b[39m \u001b[43mcreate_engine\u001b[49m\u001b[43m(\u001b[49m\u001b[38;5;124;43m'\u001b[39;49m\u001b[38;5;124;43mhttps://drive.google.com/file/d/1eAZ4BwwGRuxsJJ0Ifou2pWtAdP6ZBODN/view?usp=sharing\u001b[39;49m\u001b[38;5;124;43m'\u001b[39;49m\u001b[43m)\u001b[49m\n\u001b[0;32m     14\u001b[0m noc_regions_engine \u001b[38;5;241m=\u001b[39m create_engine(\u001b[38;5;124m'\u001b[39m\u001b[38;5;124mhttps://drive.google.com/file/d/1pObgQnqeEERD16AcmqnQfB2xVr6EG439/view?usp=drive_link\u001b[39m\u001b[38;5;124m'\u001b[39m)\n\u001b[0;32m     16\u001b[0m Olympic_history_connection \u001b[38;5;241m=\u001b[39m Olympic_history_engine\u001b[38;5;241m.\u001b[39mconnect()\n",
      "File \u001b[1;32m<string>:2\u001b[0m, in \u001b[0;36mcreate_engine\u001b[1;34m(url, **kwargs)\u001b[0m\n",
      "File \u001b[1;32mC:\\ProgramData\\Anaconda3\\lib\\site-packages\\sqlalchemy\\util\\deprecations.py:281\u001b[0m, in \u001b[0;36mdeprecated_params.<locals>.decorate.<locals>.warned\u001b[1;34m(fn, *args, **kwargs)\u001b[0m\n\u001b[0;32m    274\u001b[0m     \u001b[38;5;28;01mif\u001b[39;00m m \u001b[38;5;129;01min\u001b[39;00m kwargs:\n\u001b[0;32m    275\u001b[0m         _warn_with_version(\n\u001b[0;32m    276\u001b[0m             messages[m],\n\u001b[0;32m    277\u001b[0m             versions[m],\n\u001b[0;32m    278\u001b[0m             version_warnings[m],\n\u001b[0;32m    279\u001b[0m             stacklevel\u001b[38;5;241m=\u001b[39m\u001b[38;5;241m3\u001b[39m,\n\u001b[0;32m    280\u001b[0m         )\n\u001b[1;32m--> 281\u001b[0m \u001b[38;5;28;01mreturn\u001b[39;00m fn(\u001b[38;5;241m*\u001b[39margs, \u001b[38;5;241m*\u001b[39m\u001b[38;5;241m*\u001b[39mkwargs)\n",
      "File \u001b[1;32mC:\\ProgramData\\Anaconda3\\lib\\site-packages\\sqlalchemy\\engine\\create.py:552\u001b[0m, in \u001b[0;36mcreate_engine\u001b[1;34m(url, **kwargs)\u001b[0m\n\u001b[0;32m    548\u001b[0m u \u001b[38;5;241m=\u001b[39m _url\u001b[38;5;241m.\u001b[39mmake_url(url)\n\u001b[0;32m    550\u001b[0m u, plugins, kwargs \u001b[38;5;241m=\u001b[39m u\u001b[38;5;241m.\u001b[39m_instantiate_plugins(kwargs)\n\u001b[1;32m--> 552\u001b[0m entrypoint \u001b[38;5;241m=\u001b[39m \u001b[43mu\u001b[49m\u001b[38;5;241;43m.\u001b[39;49m\u001b[43m_get_entrypoint\u001b[49m\u001b[43m(\u001b[49m\u001b[43m)\u001b[49m\n\u001b[0;32m    553\u001b[0m _is_async \u001b[38;5;241m=\u001b[39m kwargs\u001b[38;5;241m.\u001b[39mpop(\u001b[38;5;124m\"\u001b[39m\u001b[38;5;124m_is_async\u001b[39m\u001b[38;5;124m\"\u001b[39m, \u001b[38;5;28;01mFalse\u001b[39;00m)\n\u001b[0;32m    554\u001b[0m \u001b[38;5;28;01mif\u001b[39;00m _is_async:\n",
      "File \u001b[1;32mC:\\ProgramData\\Anaconda3\\lib\\site-packages\\sqlalchemy\\engine\\url.py:754\u001b[0m, in \u001b[0;36mURL._get_entrypoint\u001b[1;34m(self)\u001b[0m\n\u001b[0;32m    752\u001b[0m \u001b[38;5;28;01melse\u001b[39;00m:\n\u001b[0;32m    753\u001b[0m     name \u001b[38;5;241m=\u001b[39m \u001b[38;5;28mself\u001b[39m\u001b[38;5;241m.\u001b[39mdrivername\u001b[38;5;241m.\u001b[39mreplace(\u001b[38;5;124m\"\u001b[39m\u001b[38;5;124m+\u001b[39m\u001b[38;5;124m\"\u001b[39m, \u001b[38;5;124m\"\u001b[39m\u001b[38;5;124m.\u001b[39m\u001b[38;5;124m\"\u001b[39m)\n\u001b[1;32m--> 754\u001b[0m \u001b[38;5;28mcls\u001b[39m \u001b[38;5;241m=\u001b[39m \u001b[43mregistry\u001b[49m\u001b[38;5;241;43m.\u001b[39;49m\u001b[43mload\u001b[49m\u001b[43m(\u001b[49m\u001b[43mname\u001b[49m\u001b[43m)\u001b[49m\n\u001b[0;32m    755\u001b[0m \u001b[38;5;66;03m# check for legacy dialects that\u001b[39;00m\n\u001b[0;32m    756\u001b[0m \u001b[38;5;66;03m# would return a module with 'dialect' as the\u001b[39;00m\n\u001b[0;32m    757\u001b[0m \u001b[38;5;66;03m# actual class\u001b[39;00m\n\u001b[0;32m    758\u001b[0m \u001b[38;5;28;01mif\u001b[39;00m (\n\u001b[0;32m    759\u001b[0m     \u001b[38;5;28mhasattr\u001b[39m(\u001b[38;5;28mcls\u001b[39m, \u001b[38;5;124m\"\u001b[39m\u001b[38;5;124mdialect\u001b[39m\u001b[38;5;124m\"\u001b[39m)\n\u001b[0;32m    760\u001b[0m     \u001b[38;5;129;01mand\u001b[39;00m \u001b[38;5;28misinstance\u001b[39m(\u001b[38;5;28mcls\u001b[39m\u001b[38;5;241m.\u001b[39mdialect, \u001b[38;5;28mtype\u001b[39m)\n\u001b[0;32m    761\u001b[0m     \u001b[38;5;129;01mand\u001b[39;00m \u001b[38;5;28missubclass\u001b[39m(\u001b[38;5;28mcls\u001b[39m\u001b[38;5;241m.\u001b[39mdialect, Dialect)\n\u001b[0;32m    762\u001b[0m ):\n",
      "File \u001b[1;32mC:\\ProgramData\\Anaconda3\\lib\\site-packages\\sqlalchemy\\util\\langhelpers.py:368\u001b[0m, in \u001b[0;36mPluginLoader.load\u001b[1;34m(self, name)\u001b[0m\n\u001b[0;32m    365\u001b[0m         \u001b[38;5;28mself\u001b[39m\u001b[38;5;241m.\u001b[39mimpls[name] \u001b[38;5;241m=\u001b[39m impl\u001b[38;5;241m.\u001b[39mload\n\u001b[0;32m    366\u001b[0m         \u001b[38;5;28;01mreturn\u001b[39;00m impl\u001b[38;5;241m.\u001b[39mload()\n\u001b[1;32m--> 368\u001b[0m \u001b[38;5;28;01mraise\u001b[39;00m exc\u001b[38;5;241m.\u001b[39mNoSuchModuleError(\n\u001b[0;32m    369\u001b[0m     \u001b[38;5;124m\"\u001b[39m\u001b[38;5;124mCan\u001b[39m\u001b[38;5;124m'\u001b[39m\u001b[38;5;124mt load plugin: \u001b[39m\u001b[38;5;132;01m%s\u001b[39;00m\u001b[38;5;124m:\u001b[39m\u001b[38;5;132;01m%s\u001b[39;00m\u001b[38;5;124m\"\u001b[39m \u001b[38;5;241m%\u001b[39m (\u001b[38;5;28mself\u001b[39m\u001b[38;5;241m.\u001b[39mgroup, name)\n\u001b[0;32m    370\u001b[0m )\n",
      "\u001b[1;31mNoSuchModuleError\u001b[0m: Can't load plugin: sqlalchemy.dialects:https"
     ]
    }
   ],
   "source": [
    "#### Using sqlalchemy library to perform query\n",
    "\n",
    "## Initial setup\n",
    "\n",
    "# Install SQLAlchemy package\n",
    "!pip install SQLAlchemy\n",
    "!pip install psycopg2 pyodbc\n",
    "\n",
    "# Import the necessary modules\n",
    "from sqlalchemy import create_engine, Table, Column, Integer, String, MetaData, select\n",
    "\n",
    "# Create engines and establish connections for each table\n",
    "Olympic_history_engine = create_engine('https://drive.google.com/file/d/1eAZ4BwwGRuxsJJ0Ifou2pWtAdP6ZBODN/view?usp=sharing')\n",
    "noc_regions_engine = create_engine('https://drive.google.com/file/d/1pObgQnqeEERD16AcmqnQfB2xVr6EG439/view?usp=drive_link')\n",
    "\n",
    "Olympic_history_connection = Olympic_history_engine.connect()\n",
    "noc_regions_connection = noc_regions_engine.connect()\n",
    "\n",
    "# Defining metadata (metadata is simply description of structure of data like table structure)\n",
    "metadata = MetaData()\n",
    "\n",
    "# Define the two tables\n",
    "Olympic_history= Table('athlete_events', metadata,\n",
    "    Column('id', Integer, primary_key=True),\n",
    "    Column('name', VARCHAR),\n",
    "    Column('sex', VARCHAR),\n",
    "    Column('age', VARCHAR),\n",
    "    Column('height', VARCHAR),\n",
    "    Column('weight', VARCHAR),\n",
    "    Column('team', VARCHAR),\n",
    "    Column('noc', VARCHAR),\n",
    "    Column('games', VARCHAR),\n",
    "    Column('year', Integer),\n",
    "    Column('season', VARCHAR),\n",
    "    Column('city', VARCHAR),\n",
    "    Column('sport', VARCHAR),\n",
    "    Column('event', VARCHAR),\n",
    "    Column('medal', VARCHAR),\n",
    ")\n",
    "\n",
    "noc_regions = Table('noc_regions', metadata,\n",
    "    Column('noc', VARCHAR),\n",
    "    Column('region', VARCHAR),\n",
    "    Column('notes', VARCHAR),\n",
    ")\n",
    "\n",
    "\n",
    "# Execute a SQL query\n",
    "#sql_query = \"SELECT * FROM users\"\n",
    "#result = connection.execute(sql_query)\n",
    "\n",
    "# Fetch and print the results\n",
    "#for row in result:\n",
    "   # print(row)\n"
   ]
  },
  {
   "cell_type": "code",
   "execution_count": null,
   "id": "4cdd2510-9174-44f4-bfd9-73c65d90bbf4",
   "metadata": {},
   "outputs": [],
   "source": []
  }
 ],
 "metadata": {
  "kernelspec": {
   "display_name": "Python 3 (ipykernel)",
   "language": "python",
   "name": "python3"
  },
  "language_info": {
   "codemirror_mode": {
    "name": "ipython",
    "version": 3
   },
   "file_extension": ".py",
   "mimetype": "text/x-python",
   "name": "python",
   "nbconvert_exporter": "python",
   "pygments_lexer": "ipython3",
   "version": "3.9.16"
  }
 },
 "nbformat": 4,
 "nbformat_minor": 5
}
