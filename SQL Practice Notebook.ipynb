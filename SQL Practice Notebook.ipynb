{
 "cells": [
  {
   "cell_type": "markdown",
   "id": "93bfc28b-9b79-451a-bdd9-ccdccc25c5e6",
   "metadata": {},
   "source": [
    "# <ins>`Data Science SQL Practice Repository`</ins>\n",
    "\n",
    "-- Ajit Mane (ajitmane36@gmail.com)"
   ]
  },
  {
   "cell_type": "markdown",
   "id": "bc39146b-4f93-4f16-8a10-69d61bc6f052",
   "metadata": {},
   "source": [
    "- This repository contains a collection of SQL practice exercises to enhance your SQL skills and knowledge.\n",
    "- It covers a wide range of SQL topics, including querying, filtering, aggregating, and joining data.\n",
    "- SQL is a fundamental skill for working with databases, and regular practice is essential to strengthen your SQL proficiency.\n",
    "- This repository aims to provide you with a set of practice exercises that cover different SQL concepts and scenario"
   ]
  },
  {
   "cell_type": "code",
   "execution_count": null,
   "id": "1011fa3a-b995-41cd-b105-063f0bef6b5f",
   "metadata": {},
   "outputs": [],
   "source": []
  }
 ],
 "metadata": {
  "kernelspec": {
   "display_name": "Python 3 (ipykernel)",
   "language": "python",
   "name": "python3"
  },
  "language_info": {
   "codemirror_mode": {
    "name": "ipython",
    "version": 3
   },
   "file_extension": ".py",
   "mimetype": "text/x-python",
   "name": "python",
   "nbconvert_exporter": "python",
   "pygments_lexer": "ipython3",
   "version": "3.9.16"
  }
 },
 "nbformat": 4,
 "nbformat_minor": 5
}
